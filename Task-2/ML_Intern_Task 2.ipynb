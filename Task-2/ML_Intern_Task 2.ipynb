{
 "cells": [
  {
   "cell_type": "code",
   "execution_count": 1,
   "id": "3a9e8546",
   "metadata": {},
   "outputs": [],
   "source": [
    "import pandas as pd\n",
    "import numpy as np\n",
    "import matplotlib.pyplot as plt\n",
    "import seaborn as sns"
   ]
  },
  {
   "cell_type": "code",
   "execution_count": 64,
   "id": "d17d5f11",
   "metadata": {},
   "outputs": [],
   "source": [
    "df = pd.read_csv(r\"C:\\Users\\tejas\\Downloads\\FastagFraudDetection.csv\")"
   ]
  },
  {
   "cell_type": "code",
   "execution_count": 65,
   "id": "cb98a14b",
   "metadata": {},
   "outputs": [
    {
     "data": {
      "text/html": [
       "<div>\n",
       "<style scoped>\n",
       "    .dataframe tbody tr th:only-of-type {\n",
       "        vertical-align: middle;\n",
       "    }\n",
       "\n",
       "    .dataframe tbody tr th {\n",
       "        vertical-align: top;\n",
       "    }\n",
       "\n",
       "    .dataframe thead th {\n",
       "        text-align: right;\n",
       "    }\n",
       "</style>\n",
       "<table border=\"1\" class=\"dataframe\">\n",
       "  <thead>\n",
       "    <tr style=\"text-align: right;\">\n",
       "      <th></th>\n",
       "      <th>Transaction_ID</th>\n",
       "      <th>Timestamp</th>\n",
       "      <th>Vehicle_Type</th>\n",
       "      <th>FastagID</th>\n",
       "      <th>TollBoothID</th>\n",
       "      <th>Lane_Type</th>\n",
       "      <th>Vehicle_Dimensions</th>\n",
       "      <th>Transaction_Amount</th>\n",
       "      <th>Amount_paid</th>\n",
       "      <th>Geographical_Location</th>\n",
       "      <th>Vehicle_Speed</th>\n",
       "      <th>Vehicle_Plate_Number</th>\n",
       "      <th>Fraud_indicator</th>\n",
       "    </tr>\n",
       "  </thead>\n",
       "  <tbody>\n",
       "    <tr>\n",
       "      <th>0</th>\n",
       "      <td>1</td>\n",
       "      <td>1/6/2023 11:20</td>\n",
       "      <td>Bus</td>\n",
       "      <td>FTG-001-ABC-121</td>\n",
       "      <td>A-101</td>\n",
       "      <td>Express</td>\n",
       "      <td>Large</td>\n",
       "      <td>350</td>\n",
       "      <td>120</td>\n",
       "      <td>13.059816123454882, 77.77068662374292</td>\n",
       "      <td>65</td>\n",
       "      <td>KA11AB1234</td>\n",
       "      <td>Fraud</td>\n",
       "    </tr>\n",
       "    <tr>\n",
       "      <th>1</th>\n",
       "      <td>2</td>\n",
       "      <td>1/7/2023 14:55</td>\n",
       "      <td>Car</td>\n",
       "      <td>FTG-002-XYZ-451</td>\n",
       "      <td>B-102</td>\n",
       "      <td>Regular</td>\n",
       "      <td>Small</td>\n",
       "      <td>120</td>\n",
       "      <td>100</td>\n",
       "      <td>13.059816123454882, 77.77068662374292</td>\n",
       "      <td>78</td>\n",
       "      <td>KA66CD5678</td>\n",
       "      <td>Fraud</td>\n",
       "    </tr>\n",
       "    <tr>\n",
       "      <th>2</th>\n",
       "      <td>3</td>\n",
       "      <td>1/8/2023 18:25</td>\n",
       "      <td>Motorcycle</td>\n",
       "      <td>NaN</td>\n",
       "      <td>D-104</td>\n",
       "      <td>Regular</td>\n",
       "      <td>Small</td>\n",
       "      <td>0</td>\n",
       "      <td>0</td>\n",
       "      <td>13.059816123454882, 77.77068662374292</td>\n",
       "      <td>53</td>\n",
       "      <td>KA88EF9012</td>\n",
       "      <td>Not Fraud</td>\n",
       "    </tr>\n",
       "    <tr>\n",
       "      <th>3</th>\n",
       "      <td>4</td>\n",
       "      <td>1/9/2023 2:05</td>\n",
       "      <td>Truck</td>\n",
       "      <td>FTG-044-LMN-322</td>\n",
       "      <td>C-103</td>\n",
       "      <td>Regular</td>\n",
       "      <td>Large</td>\n",
       "      <td>350</td>\n",
       "      <td>120</td>\n",
       "      <td>13.059816123454882, 77.77068662374292</td>\n",
       "      <td>92</td>\n",
       "      <td>KA11GH3456</td>\n",
       "      <td>Fraud</td>\n",
       "    </tr>\n",
       "    <tr>\n",
       "      <th>4</th>\n",
       "      <td>5</td>\n",
       "      <td>1/10/2023 6:35</td>\n",
       "      <td>Van</td>\n",
       "      <td>FTG-505-DEF-652</td>\n",
       "      <td>B-102</td>\n",
       "      <td>Express</td>\n",
       "      <td>Medium</td>\n",
       "      <td>140</td>\n",
       "      <td>100</td>\n",
       "      <td>13.059816123454882, 77.77068662374292</td>\n",
       "      <td>60</td>\n",
       "      <td>KA44IJ6789</td>\n",
       "      <td>Fraud</td>\n",
       "    </tr>\n",
       "    <tr>\n",
       "      <th>...</th>\n",
       "      <td>...</td>\n",
       "      <td>...</td>\n",
       "      <td>...</td>\n",
       "      <td>...</td>\n",
       "      <td>...</td>\n",
       "      <td>...</td>\n",
       "      <td>...</td>\n",
       "      <td>...</td>\n",
       "      <td>...</td>\n",
       "      <td>...</td>\n",
       "      <td>...</td>\n",
       "      <td>...</td>\n",
       "      <td>...</td>\n",
       "    </tr>\n",
       "    <tr>\n",
       "      <th>4995</th>\n",
       "      <td>4996</td>\n",
       "      <td>1/1/2023 22:18</td>\n",
       "      <td>Truck</td>\n",
       "      <td>FTG-445-EDC-765</td>\n",
       "      <td>C-103</td>\n",
       "      <td>Regular</td>\n",
       "      <td>Large</td>\n",
       "      <td>330</td>\n",
       "      <td>330</td>\n",
       "      <td>13.21331620748757, 77.55413526894684</td>\n",
       "      <td>81</td>\n",
       "      <td>KA74ST0123</td>\n",
       "      <td>Not Fraud</td>\n",
       "    </tr>\n",
       "    <tr>\n",
       "      <th>4996</th>\n",
       "      <td>4997</td>\n",
       "      <td>1/17/2023 13:43</td>\n",
       "      <td>Van</td>\n",
       "      <td>FTG-446-LMK-432</td>\n",
       "      <td>B-102</td>\n",
       "      <td>Express</td>\n",
       "      <td>Medium</td>\n",
       "      <td>125</td>\n",
       "      <td>125</td>\n",
       "      <td>13.21331620748757, 77.55413526894684</td>\n",
       "      <td>64</td>\n",
       "      <td>KA38UV3456</td>\n",
       "      <td>Not Fraud</td>\n",
       "    </tr>\n",
       "    <tr>\n",
       "      <th>4997</th>\n",
       "      <td>4998</td>\n",
       "      <td>2/5/2023 5:08</td>\n",
       "      <td>Sedan</td>\n",
       "      <td>FTG-447-PLN-109</td>\n",
       "      <td>A-101</td>\n",
       "      <td>Regular</td>\n",
       "      <td>Medium</td>\n",
       "      <td>115</td>\n",
       "      <td>115</td>\n",
       "      <td>13.21331620748757, 77.55413526894684</td>\n",
       "      <td>93</td>\n",
       "      <td>KA33WX6789</td>\n",
       "      <td>Not Fraud</td>\n",
       "    </tr>\n",
       "    <tr>\n",
       "      <th>4998</th>\n",
       "      <td>4999</td>\n",
       "      <td>2/20/2023 20:34</td>\n",
       "      <td>SUV</td>\n",
       "      <td>FTG-458-VFR-876</td>\n",
       "      <td>B-102</td>\n",
       "      <td>Express</td>\n",
       "      <td>Large</td>\n",
       "      <td>145</td>\n",
       "      <td>145</td>\n",
       "      <td>13.21331620748757, 77.55413526894684</td>\n",
       "      <td>57</td>\n",
       "      <td>KA35YZ0123</td>\n",
       "      <td>Not Fraud</td>\n",
       "    </tr>\n",
       "    <tr>\n",
       "      <th>4999</th>\n",
       "      <td>5000</td>\n",
       "      <td>3/10/2023 0:59</td>\n",
       "      <td>Bus</td>\n",
       "      <td>FTG-459-WSX-543</td>\n",
       "      <td>C-103</td>\n",
       "      <td>Regular</td>\n",
       "      <td>Large</td>\n",
       "      <td>330</td>\n",
       "      <td>125</td>\n",
       "      <td>13.21331620748757, 77.55413526894684</td>\n",
       "      <td>86</td>\n",
       "      <td>KA37AB3456</td>\n",
       "      <td>Fraud</td>\n",
       "    </tr>\n",
       "  </tbody>\n",
       "</table>\n",
       "<p>5000 rows × 13 columns</p>\n",
       "</div>"
      ],
      "text/plain": [
       "      Transaction_ID        Timestamp Vehicle_Type         FastagID  \\\n",
       "0                  1   1/6/2023 11:20         Bus   FTG-001-ABC-121   \n",
       "1                  2   1/7/2023 14:55          Car  FTG-002-XYZ-451   \n",
       "2                  3   1/8/2023 18:25   Motorcycle              NaN   \n",
       "3                  4    1/9/2023 2:05        Truck  FTG-044-LMN-322   \n",
       "4                  5   1/10/2023 6:35          Van  FTG-505-DEF-652   \n",
       "...              ...              ...          ...              ...   \n",
       "4995            4996   1/1/2023 22:18        Truck  FTG-445-EDC-765   \n",
       "4996            4997  1/17/2023 13:43          Van  FTG-446-LMK-432   \n",
       "4997            4998    2/5/2023 5:08        Sedan  FTG-447-PLN-109   \n",
       "4998            4999  2/20/2023 20:34          SUV  FTG-458-VFR-876   \n",
       "4999            5000   3/10/2023 0:59         Bus   FTG-459-WSX-543   \n",
       "\n",
       "     TollBoothID Lane_Type Vehicle_Dimensions  Transaction_Amount  \\\n",
       "0          A-101   Express              Large                 350   \n",
       "1          B-102   Regular              Small                 120   \n",
       "2          D-104   Regular              Small                   0   \n",
       "3          C-103   Regular              Large                 350   \n",
       "4          B-102   Express             Medium                 140   \n",
       "...          ...       ...                ...                 ...   \n",
       "4995       C-103   Regular              Large                 330   \n",
       "4996       B-102   Express             Medium                 125   \n",
       "4997       A-101   Regular             Medium                 115   \n",
       "4998       B-102   Express              Large                 145   \n",
       "4999       C-103   Regular              Large                 330   \n",
       "\n",
       "      Amount_paid                  Geographical_Location  Vehicle_Speed  \\\n",
       "0             120  13.059816123454882, 77.77068662374292             65   \n",
       "1             100  13.059816123454882, 77.77068662374292             78   \n",
       "2               0  13.059816123454882, 77.77068662374292             53   \n",
       "3             120  13.059816123454882, 77.77068662374292             92   \n",
       "4             100  13.059816123454882, 77.77068662374292             60   \n",
       "...           ...                                    ...            ...   \n",
       "4995          330   13.21331620748757, 77.55413526894684             81   \n",
       "4996          125   13.21331620748757, 77.55413526894684             64   \n",
       "4997          115   13.21331620748757, 77.55413526894684             93   \n",
       "4998          145   13.21331620748757, 77.55413526894684             57   \n",
       "4999          125   13.21331620748757, 77.55413526894684             86   \n",
       "\n",
       "     Vehicle_Plate_Number Fraud_indicator  \n",
       "0              KA11AB1234           Fraud  \n",
       "1              KA66CD5678           Fraud  \n",
       "2              KA88EF9012       Not Fraud  \n",
       "3              KA11GH3456           Fraud  \n",
       "4              KA44IJ6789           Fraud  \n",
       "...                   ...             ...  \n",
       "4995           KA74ST0123       Not Fraud  \n",
       "4996           KA38UV3456       Not Fraud  \n",
       "4997           KA33WX6789       Not Fraud  \n",
       "4998           KA35YZ0123       Not Fraud  \n",
       "4999           KA37AB3456           Fraud  \n",
       "\n",
       "[5000 rows x 13 columns]"
      ]
     },
     "execution_count": 65,
     "metadata": {},
     "output_type": "execute_result"
    }
   ],
   "source": [
    "df"
   ]
  },
  {
   "cell_type": "code",
   "execution_count": 66,
   "id": "8cfc1a18",
   "metadata": {},
   "outputs": [
    {
     "data": {
      "text/plain": [
       "(5000, 13)"
      ]
     },
     "execution_count": 66,
     "metadata": {},
     "output_type": "execute_result"
    }
   ],
   "source": [
    "df.shape"
   ]
  },
  {
   "cell_type": "code",
   "execution_count": 67,
   "id": "00094390",
   "metadata": {},
   "outputs": [
    {
     "data": {
      "text/plain": [
       "65000"
      ]
     },
     "execution_count": 67,
     "metadata": {},
     "output_type": "execute_result"
    }
   ],
   "source": [
    "df.size"
   ]
  },
  {
   "cell_type": "code",
   "execution_count": 68,
   "id": "c23882c0",
   "metadata": {},
   "outputs": [
    {
     "name": "stdout",
     "output_type": "stream",
     "text": [
      "<class 'pandas.core.frame.DataFrame'>\n",
      "RangeIndex: 5000 entries, 0 to 4999\n",
      "Data columns (total 13 columns):\n",
      " #   Column                 Non-Null Count  Dtype \n",
      "---  ------                 --------------  ----- \n",
      " 0   Transaction_ID         5000 non-null   int64 \n",
      " 1   Timestamp              5000 non-null   object\n",
      " 2   Vehicle_Type           5000 non-null   object\n",
      " 3   FastagID               4451 non-null   object\n",
      " 4   TollBoothID            5000 non-null   object\n",
      " 5   Lane_Type              5000 non-null   object\n",
      " 6   Vehicle_Dimensions     5000 non-null   object\n",
      " 7   Transaction_Amount     5000 non-null   int64 \n",
      " 8   Amount_paid            5000 non-null   int64 \n",
      " 9   Geographical_Location  5000 non-null   object\n",
      " 10  Vehicle_Speed          5000 non-null   int64 \n",
      " 11  Vehicle_Plate_Number   5000 non-null   object\n",
      " 12  Fraud_indicator        5000 non-null   object\n",
      "dtypes: int64(4), object(9)\n",
      "memory usage: 507.9+ KB\n"
     ]
    }
   ],
   "source": [
    "df.info()"
   ]
  },
  {
   "cell_type": "code",
   "execution_count": 69,
   "id": "014400e3",
   "metadata": {},
   "outputs": [
    {
     "data": {
      "text/plain": [
       "Index(['Transaction_ID', 'Timestamp', 'Vehicle_Type', 'FastagID',\n",
       "       'TollBoothID', 'Lane_Type', 'Vehicle_Dimensions', 'Transaction_Amount',\n",
       "       'Amount_paid', 'Geographical_Location', 'Vehicle_Speed',\n",
       "       'Vehicle_Plate_Number', 'Fraud_indicator'],\n",
       "      dtype='object')"
      ]
     },
     "execution_count": 69,
     "metadata": {},
     "output_type": "execute_result"
    }
   ],
   "source": [
    "df.columns"
   ]
  },
  {
   "cell_type": "code",
   "execution_count": 70,
   "id": "7fe52dee",
   "metadata": {},
   "outputs": [
    {
     "data": {
      "text/plain": [
       "Transaction_ID            int64\n",
       "Timestamp                object\n",
       "Vehicle_Type             object\n",
       "FastagID                 object\n",
       "TollBoothID              object\n",
       "Lane_Type                object\n",
       "Vehicle_Dimensions       object\n",
       "Transaction_Amount        int64\n",
       "Amount_paid               int64\n",
       "Geographical_Location    object\n",
       "Vehicle_Speed             int64\n",
       "Vehicle_Plate_Number     object\n",
       "Fraud_indicator          object\n",
       "dtype: object"
      ]
     },
     "execution_count": 70,
     "metadata": {},
     "output_type": "execute_result"
    }
   ],
   "source": [
    "df.dtypes"
   ]
  },
  {
   "cell_type": "markdown",
   "id": "d7a9de17",
   "metadata": {},
   "source": [
    "# Data Preprocessing"
   ]
  },
  {
   "cell_type": "code",
   "execution_count": 71,
   "id": "c84db2ea",
   "metadata": {},
   "outputs": [],
   "source": [
    "df = df.drop_duplicates(keep = 'first')"
   ]
  },
  {
   "cell_type": "code",
   "execution_count": 72,
   "id": "b99b86eb",
   "metadata": {},
   "outputs": [
    {
     "data": {
      "text/plain": [
       "(5000, 13)"
      ]
     },
     "execution_count": 72,
     "metadata": {},
     "output_type": "execute_result"
    }
   ],
   "source": [
    "df.shape"
   ]
  },
  {
   "cell_type": "code",
   "execution_count": 73,
   "id": "48765861",
   "metadata": {},
   "outputs": [
    {
     "data": {
      "text/plain": [
       "Transaction_ID             0\n",
       "Timestamp                  0\n",
       "Vehicle_Type               0\n",
       "FastagID                 549\n",
       "TollBoothID                0\n",
       "Lane_Type                  0\n",
       "Vehicle_Dimensions         0\n",
       "Transaction_Amount         0\n",
       "Amount_paid                0\n",
       "Geographical_Location      0\n",
       "Vehicle_Speed              0\n",
       "Vehicle_Plate_Number       0\n",
       "Fraud_indicator            0\n",
       "dtype: int64"
      ]
     },
     "execution_count": 73,
     "metadata": {},
     "output_type": "execute_result"
    }
   ],
   "source": [
    "df.isnull().sum()"
   ]
  },
  {
   "cell_type": "code",
   "execution_count": 74,
   "id": "8aafb105",
   "metadata": {},
   "outputs": [],
   "source": [
    "df.drop('FastagID',axis=1,inplace=True)"
   ]
  },
  {
   "cell_type": "code",
   "execution_count": 75,
   "id": "7ed763ba",
   "metadata": {},
   "outputs": [
    {
     "data": {
      "text/html": [
       "<div>\n",
       "<style scoped>\n",
       "    .dataframe tbody tr th:only-of-type {\n",
       "        vertical-align: middle;\n",
       "    }\n",
       "\n",
       "    .dataframe tbody tr th {\n",
       "        vertical-align: top;\n",
       "    }\n",
       "\n",
       "    .dataframe thead th {\n",
       "        text-align: right;\n",
       "    }\n",
       "</style>\n",
       "<table border=\"1\" class=\"dataframe\">\n",
       "  <thead>\n",
       "    <tr style=\"text-align: right;\">\n",
       "      <th></th>\n",
       "      <th>Transaction_ID</th>\n",
       "      <th>Timestamp</th>\n",
       "      <th>Vehicle_Type</th>\n",
       "      <th>TollBoothID</th>\n",
       "      <th>Lane_Type</th>\n",
       "      <th>Vehicle_Dimensions</th>\n",
       "      <th>Transaction_Amount</th>\n",
       "      <th>Amount_paid</th>\n",
       "      <th>Geographical_Location</th>\n",
       "      <th>Vehicle_Speed</th>\n",
       "      <th>Vehicle_Plate_Number</th>\n",
       "      <th>Fraud_indicator</th>\n",
       "    </tr>\n",
       "  </thead>\n",
       "  <tbody>\n",
       "    <tr>\n",
       "      <th>0</th>\n",
       "      <td>1</td>\n",
       "      <td>1/6/2023 11:20</td>\n",
       "      <td>Bus</td>\n",
       "      <td>A-101</td>\n",
       "      <td>Express</td>\n",
       "      <td>Large</td>\n",
       "      <td>350</td>\n",
       "      <td>120</td>\n",
       "      <td>13.059816123454882, 77.77068662374292</td>\n",
       "      <td>65</td>\n",
       "      <td>KA11AB1234</td>\n",
       "      <td>Fraud</td>\n",
       "    </tr>\n",
       "    <tr>\n",
       "      <th>1</th>\n",
       "      <td>2</td>\n",
       "      <td>1/7/2023 14:55</td>\n",
       "      <td>Car</td>\n",
       "      <td>B-102</td>\n",
       "      <td>Regular</td>\n",
       "      <td>Small</td>\n",
       "      <td>120</td>\n",
       "      <td>100</td>\n",
       "      <td>13.059816123454882, 77.77068662374292</td>\n",
       "      <td>78</td>\n",
       "      <td>KA66CD5678</td>\n",
       "      <td>Fraud</td>\n",
       "    </tr>\n",
       "    <tr>\n",
       "      <th>2</th>\n",
       "      <td>3</td>\n",
       "      <td>1/8/2023 18:25</td>\n",
       "      <td>Motorcycle</td>\n",
       "      <td>D-104</td>\n",
       "      <td>Regular</td>\n",
       "      <td>Small</td>\n",
       "      <td>0</td>\n",
       "      <td>0</td>\n",
       "      <td>13.059816123454882, 77.77068662374292</td>\n",
       "      <td>53</td>\n",
       "      <td>KA88EF9012</td>\n",
       "      <td>Not Fraud</td>\n",
       "    </tr>\n",
       "    <tr>\n",
       "      <th>3</th>\n",
       "      <td>4</td>\n",
       "      <td>1/9/2023 2:05</td>\n",
       "      <td>Truck</td>\n",
       "      <td>C-103</td>\n",
       "      <td>Regular</td>\n",
       "      <td>Large</td>\n",
       "      <td>350</td>\n",
       "      <td>120</td>\n",
       "      <td>13.059816123454882, 77.77068662374292</td>\n",
       "      <td>92</td>\n",
       "      <td>KA11GH3456</td>\n",
       "      <td>Fraud</td>\n",
       "    </tr>\n",
       "    <tr>\n",
       "      <th>4</th>\n",
       "      <td>5</td>\n",
       "      <td>1/10/2023 6:35</td>\n",
       "      <td>Van</td>\n",
       "      <td>B-102</td>\n",
       "      <td>Express</td>\n",
       "      <td>Medium</td>\n",
       "      <td>140</td>\n",
       "      <td>100</td>\n",
       "      <td>13.059816123454882, 77.77068662374292</td>\n",
       "      <td>60</td>\n",
       "      <td>KA44IJ6789</td>\n",
       "      <td>Fraud</td>\n",
       "    </tr>\n",
       "    <tr>\n",
       "      <th>...</th>\n",
       "      <td>...</td>\n",
       "      <td>...</td>\n",
       "      <td>...</td>\n",
       "      <td>...</td>\n",
       "      <td>...</td>\n",
       "      <td>...</td>\n",
       "      <td>...</td>\n",
       "      <td>...</td>\n",
       "      <td>...</td>\n",
       "      <td>...</td>\n",
       "      <td>...</td>\n",
       "      <td>...</td>\n",
       "    </tr>\n",
       "    <tr>\n",
       "      <th>4995</th>\n",
       "      <td>4996</td>\n",
       "      <td>1/1/2023 22:18</td>\n",
       "      <td>Truck</td>\n",
       "      <td>C-103</td>\n",
       "      <td>Regular</td>\n",
       "      <td>Large</td>\n",
       "      <td>330</td>\n",
       "      <td>330</td>\n",
       "      <td>13.21331620748757, 77.55413526894684</td>\n",
       "      <td>81</td>\n",
       "      <td>KA74ST0123</td>\n",
       "      <td>Not Fraud</td>\n",
       "    </tr>\n",
       "    <tr>\n",
       "      <th>4996</th>\n",
       "      <td>4997</td>\n",
       "      <td>1/17/2023 13:43</td>\n",
       "      <td>Van</td>\n",
       "      <td>B-102</td>\n",
       "      <td>Express</td>\n",
       "      <td>Medium</td>\n",
       "      <td>125</td>\n",
       "      <td>125</td>\n",
       "      <td>13.21331620748757, 77.55413526894684</td>\n",
       "      <td>64</td>\n",
       "      <td>KA38UV3456</td>\n",
       "      <td>Not Fraud</td>\n",
       "    </tr>\n",
       "    <tr>\n",
       "      <th>4997</th>\n",
       "      <td>4998</td>\n",
       "      <td>2/5/2023 5:08</td>\n",
       "      <td>Sedan</td>\n",
       "      <td>A-101</td>\n",
       "      <td>Regular</td>\n",
       "      <td>Medium</td>\n",
       "      <td>115</td>\n",
       "      <td>115</td>\n",
       "      <td>13.21331620748757, 77.55413526894684</td>\n",
       "      <td>93</td>\n",
       "      <td>KA33WX6789</td>\n",
       "      <td>Not Fraud</td>\n",
       "    </tr>\n",
       "    <tr>\n",
       "      <th>4998</th>\n",
       "      <td>4999</td>\n",
       "      <td>2/20/2023 20:34</td>\n",
       "      <td>SUV</td>\n",
       "      <td>B-102</td>\n",
       "      <td>Express</td>\n",
       "      <td>Large</td>\n",
       "      <td>145</td>\n",
       "      <td>145</td>\n",
       "      <td>13.21331620748757, 77.55413526894684</td>\n",
       "      <td>57</td>\n",
       "      <td>KA35YZ0123</td>\n",
       "      <td>Not Fraud</td>\n",
       "    </tr>\n",
       "    <tr>\n",
       "      <th>4999</th>\n",
       "      <td>5000</td>\n",
       "      <td>3/10/2023 0:59</td>\n",
       "      <td>Bus</td>\n",
       "      <td>C-103</td>\n",
       "      <td>Regular</td>\n",
       "      <td>Large</td>\n",
       "      <td>330</td>\n",
       "      <td>125</td>\n",
       "      <td>13.21331620748757, 77.55413526894684</td>\n",
       "      <td>86</td>\n",
       "      <td>KA37AB3456</td>\n",
       "      <td>Fraud</td>\n",
       "    </tr>\n",
       "  </tbody>\n",
       "</table>\n",
       "<p>5000 rows × 12 columns</p>\n",
       "</div>"
      ],
      "text/plain": [
       "      Transaction_ID        Timestamp Vehicle_Type TollBoothID Lane_Type  \\\n",
       "0                  1   1/6/2023 11:20         Bus        A-101   Express   \n",
       "1                  2   1/7/2023 14:55          Car       B-102   Regular   \n",
       "2                  3   1/8/2023 18:25   Motorcycle       D-104   Regular   \n",
       "3                  4    1/9/2023 2:05        Truck       C-103   Regular   \n",
       "4                  5   1/10/2023 6:35          Van       B-102   Express   \n",
       "...              ...              ...          ...         ...       ...   \n",
       "4995            4996   1/1/2023 22:18        Truck       C-103   Regular   \n",
       "4996            4997  1/17/2023 13:43          Van       B-102   Express   \n",
       "4997            4998    2/5/2023 5:08        Sedan       A-101   Regular   \n",
       "4998            4999  2/20/2023 20:34          SUV       B-102   Express   \n",
       "4999            5000   3/10/2023 0:59         Bus        C-103   Regular   \n",
       "\n",
       "     Vehicle_Dimensions  Transaction_Amount  Amount_paid  \\\n",
       "0                 Large                 350          120   \n",
       "1                 Small                 120          100   \n",
       "2                 Small                   0            0   \n",
       "3                 Large                 350          120   \n",
       "4                Medium                 140          100   \n",
       "...                 ...                 ...          ...   \n",
       "4995              Large                 330          330   \n",
       "4996             Medium                 125          125   \n",
       "4997             Medium                 115          115   \n",
       "4998              Large                 145          145   \n",
       "4999              Large                 330          125   \n",
       "\n",
       "                      Geographical_Location  Vehicle_Speed  \\\n",
       "0     13.059816123454882, 77.77068662374292             65   \n",
       "1     13.059816123454882, 77.77068662374292             78   \n",
       "2     13.059816123454882, 77.77068662374292             53   \n",
       "3     13.059816123454882, 77.77068662374292             92   \n",
       "4     13.059816123454882, 77.77068662374292             60   \n",
       "...                                     ...            ...   \n",
       "4995   13.21331620748757, 77.55413526894684             81   \n",
       "4996   13.21331620748757, 77.55413526894684             64   \n",
       "4997   13.21331620748757, 77.55413526894684             93   \n",
       "4998   13.21331620748757, 77.55413526894684             57   \n",
       "4999   13.21331620748757, 77.55413526894684             86   \n",
       "\n",
       "     Vehicle_Plate_Number Fraud_indicator  \n",
       "0              KA11AB1234           Fraud  \n",
       "1              KA66CD5678           Fraud  \n",
       "2              KA88EF9012       Not Fraud  \n",
       "3              KA11GH3456           Fraud  \n",
       "4              KA44IJ6789           Fraud  \n",
       "...                   ...             ...  \n",
       "4995           KA74ST0123       Not Fraud  \n",
       "4996           KA38UV3456       Not Fraud  \n",
       "4997           KA33WX6789       Not Fraud  \n",
       "4998           KA35YZ0123       Not Fraud  \n",
       "4999           KA37AB3456           Fraud  \n",
       "\n",
       "[5000 rows x 12 columns]"
      ]
     },
     "execution_count": 75,
     "metadata": {},
     "output_type": "execute_result"
    }
   ],
   "source": [
    "df"
   ]
  },
  {
   "cell_type": "code",
   "execution_count": 76,
   "id": "9ffd49c3",
   "metadata": {},
   "outputs": [
    {
     "data": {
      "text/plain": [
       "Transaction_ID           0\n",
       "Timestamp                0\n",
       "Vehicle_Type             0\n",
       "TollBoothID              0\n",
       "Lane_Type                0\n",
       "Vehicle_Dimensions       0\n",
       "Transaction_Amount       0\n",
       "Amount_paid              0\n",
       "Geographical_Location    0\n",
       "Vehicle_Speed            0\n",
       "Vehicle_Plate_Number     0\n",
       "Fraud_indicator          0\n",
       "dtype: int64"
      ]
     },
     "execution_count": 76,
     "metadata": {},
     "output_type": "execute_result"
    }
   ],
   "source": [
    "df.isnull().sum()"
   ]
  },
  {
   "cell_type": "code",
   "execution_count": 77,
   "id": "f2ac3387",
   "metadata": {},
   "outputs": [],
   "source": [
    "df.drop('Transaction_ID',axis=1,inplace=True)"
   ]
  },
  {
   "cell_type": "code",
   "execution_count": 78,
   "id": "40d365a3",
   "metadata": {},
   "outputs": [
    {
     "data": {
      "text/plain": [
       "(5000, 11)"
      ]
     },
     "execution_count": 78,
     "metadata": {},
     "output_type": "execute_result"
    }
   ],
   "source": [
    "df.shape"
   ]
  },
  {
   "cell_type": "code",
   "execution_count": 79,
   "id": "357bba83",
   "metadata": {},
   "outputs": [],
   "source": [
    "df['Timestamp']=pd.to_datetime(df['Timestamp'])"
   ]
  },
  {
   "cell_type": "code",
   "execution_count": 80,
   "id": "3aea4928",
   "metadata": {},
   "outputs": [
    {
     "data": {
      "text/html": [
       "<div>\n",
       "<style scoped>\n",
       "    .dataframe tbody tr th:only-of-type {\n",
       "        vertical-align: middle;\n",
       "    }\n",
       "\n",
       "    .dataframe tbody tr th {\n",
       "        vertical-align: top;\n",
       "    }\n",
       "\n",
       "    .dataframe thead th {\n",
       "        text-align: right;\n",
       "    }\n",
       "</style>\n",
       "<table border=\"1\" class=\"dataframe\">\n",
       "  <thead>\n",
       "    <tr style=\"text-align: right;\">\n",
       "      <th></th>\n",
       "      <th>Timestamp</th>\n",
       "      <th>Vehicle_Type</th>\n",
       "      <th>TollBoothID</th>\n",
       "      <th>Lane_Type</th>\n",
       "      <th>Vehicle_Dimensions</th>\n",
       "      <th>Transaction_Amount</th>\n",
       "      <th>Amount_paid</th>\n",
       "      <th>Geographical_Location</th>\n",
       "      <th>Vehicle_Speed</th>\n",
       "      <th>Vehicle_Plate_Number</th>\n",
       "      <th>Fraud_indicator</th>\n",
       "    </tr>\n",
       "  </thead>\n",
       "  <tbody>\n",
       "    <tr>\n",
       "      <th>0</th>\n",
       "      <td>2023-01-06 11:20:00</td>\n",
       "      <td>Bus</td>\n",
       "      <td>A-101</td>\n",
       "      <td>Express</td>\n",
       "      <td>Large</td>\n",
       "      <td>350</td>\n",
       "      <td>120</td>\n",
       "      <td>13.059816123454882, 77.77068662374292</td>\n",
       "      <td>65</td>\n",
       "      <td>KA11AB1234</td>\n",
       "      <td>Fraud</td>\n",
       "    </tr>\n",
       "    <tr>\n",
       "      <th>1</th>\n",
       "      <td>2023-01-07 14:55:00</td>\n",
       "      <td>Car</td>\n",
       "      <td>B-102</td>\n",
       "      <td>Regular</td>\n",
       "      <td>Small</td>\n",
       "      <td>120</td>\n",
       "      <td>100</td>\n",
       "      <td>13.059816123454882, 77.77068662374292</td>\n",
       "      <td>78</td>\n",
       "      <td>KA66CD5678</td>\n",
       "      <td>Fraud</td>\n",
       "    </tr>\n",
       "    <tr>\n",
       "      <th>2</th>\n",
       "      <td>2023-01-08 18:25:00</td>\n",
       "      <td>Motorcycle</td>\n",
       "      <td>D-104</td>\n",
       "      <td>Regular</td>\n",
       "      <td>Small</td>\n",
       "      <td>0</td>\n",
       "      <td>0</td>\n",
       "      <td>13.059816123454882, 77.77068662374292</td>\n",
       "      <td>53</td>\n",
       "      <td>KA88EF9012</td>\n",
       "      <td>Not Fraud</td>\n",
       "    </tr>\n",
       "    <tr>\n",
       "      <th>3</th>\n",
       "      <td>2023-01-09 02:05:00</td>\n",
       "      <td>Truck</td>\n",
       "      <td>C-103</td>\n",
       "      <td>Regular</td>\n",
       "      <td>Large</td>\n",
       "      <td>350</td>\n",
       "      <td>120</td>\n",
       "      <td>13.059816123454882, 77.77068662374292</td>\n",
       "      <td>92</td>\n",
       "      <td>KA11GH3456</td>\n",
       "      <td>Fraud</td>\n",
       "    </tr>\n",
       "    <tr>\n",
       "      <th>4</th>\n",
       "      <td>2023-01-10 06:35:00</td>\n",
       "      <td>Van</td>\n",
       "      <td>B-102</td>\n",
       "      <td>Express</td>\n",
       "      <td>Medium</td>\n",
       "      <td>140</td>\n",
       "      <td>100</td>\n",
       "      <td>13.059816123454882, 77.77068662374292</td>\n",
       "      <td>60</td>\n",
       "      <td>KA44IJ6789</td>\n",
       "      <td>Fraud</td>\n",
       "    </tr>\n",
       "    <tr>\n",
       "      <th>...</th>\n",
       "      <td>...</td>\n",
       "      <td>...</td>\n",
       "      <td>...</td>\n",
       "      <td>...</td>\n",
       "      <td>...</td>\n",
       "      <td>...</td>\n",
       "      <td>...</td>\n",
       "      <td>...</td>\n",
       "      <td>...</td>\n",
       "      <td>...</td>\n",
       "      <td>...</td>\n",
       "    </tr>\n",
       "    <tr>\n",
       "      <th>4995</th>\n",
       "      <td>2023-01-01 22:18:00</td>\n",
       "      <td>Truck</td>\n",
       "      <td>C-103</td>\n",
       "      <td>Regular</td>\n",
       "      <td>Large</td>\n",
       "      <td>330</td>\n",
       "      <td>330</td>\n",
       "      <td>13.21331620748757, 77.55413526894684</td>\n",
       "      <td>81</td>\n",
       "      <td>KA74ST0123</td>\n",
       "      <td>Not Fraud</td>\n",
       "    </tr>\n",
       "    <tr>\n",
       "      <th>4996</th>\n",
       "      <td>2023-01-17 13:43:00</td>\n",
       "      <td>Van</td>\n",
       "      <td>B-102</td>\n",
       "      <td>Express</td>\n",
       "      <td>Medium</td>\n",
       "      <td>125</td>\n",
       "      <td>125</td>\n",
       "      <td>13.21331620748757, 77.55413526894684</td>\n",
       "      <td>64</td>\n",
       "      <td>KA38UV3456</td>\n",
       "      <td>Not Fraud</td>\n",
       "    </tr>\n",
       "    <tr>\n",
       "      <th>4997</th>\n",
       "      <td>2023-02-05 05:08:00</td>\n",
       "      <td>Sedan</td>\n",
       "      <td>A-101</td>\n",
       "      <td>Regular</td>\n",
       "      <td>Medium</td>\n",
       "      <td>115</td>\n",
       "      <td>115</td>\n",
       "      <td>13.21331620748757, 77.55413526894684</td>\n",
       "      <td>93</td>\n",
       "      <td>KA33WX6789</td>\n",
       "      <td>Not Fraud</td>\n",
       "    </tr>\n",
       "    <tr>\n",
       "      <th>4998</th>\n",
       "      <td>2023-02-20 20:34:00</td>\n",
       "      <td>SUV</td>\n",
       "      <td>B-102</td>\n",
       "      <td>Express</td>\n",
       "      <td>Large</td>\n",
       "      <td>145</td>\n",
       "      <td>145</td>\n",
       "      <td>13.21331620748757, 77.55413526894684</td>\n",
       "      <td>57</td>\n",
       "      <td>KA35YZ0123</td>\n",
       "      <td>Not Fraud</td>\n",
       "    </tr>\n",
       "    <tr>\n",
       "      <th>4999</th>\n",
       "      <td>2023-03-10 00:59:00</td>\n",
       "      <td>Bus</td>\n",
       "      <td>C-103</td>\n",
       "      <td>Regular</td>\n",
       "      <td>Large</td>\n",
       "      <td>330</td>\n",
       "      <td>125</td>\n",
       "      <td>13.21331620748757, 77.55413526894684</td>\n",
       "      <td>86</td>\n",
       "      <td>KA37AB3456</td>\n",
       "      <td>Fraud</td>\n",
       "    </tr>\n",
       "  </tbody>\n",
       "</table>\n",
       "<p>5000 rows × 11 columns</p>\n",
       "</div>"
      ],
      "text/plain": [
       "               Timestamp Vehicle_Type TollBoothID Lane_Type  \\\n",
       "0    2023-01-06 11:20:00         Bus        A-101   Express   \n",
       "1    2023-01-07 14:55:00          Car       B-102   Regular   \n",
       "2    2023-01-08 18:25:00   Motorcycle       D-104   Regular   \n",
       "3    2023-01-09 02:05:00        Truck       C-103   Regular   \n",
       "4    2023-01-10 06:35:00          Van       B-102   Express   \n",
       "...                  ...          ...         ...       ...   \n",
       "4995 2023-01-01 22:18:00        Truck       C-103   Regular   \n",
       "4996 2023-01-17 13:43:00          Van       B-102   Express   \n",
       "4997 2023-02-05 05:08:00        Sedan       A-101   Regular   \n",
       "4998 2023-02-20 20:34:00          SUV       B-102   Express   \n",
       "4999 2023-03-10 00:59:00         Bus        C-103   Regular   \n",
       "\n",
       "     Vehicle_Dimensions  Transaction_Amount  Amount_paid  \\\n",
       "0                 Large                 350          120   \n",
       "1                 Small                 120          100   \n",
       "2                 Small                   0            0   \n",
       "3                 Large                 350          120   \n",
       "4                Medium                 140          100   \n",
       "...                 ...                 ...          ...   \n",
       "4995              Large                 330          330   \n",
       "4996             Medium                 125          125   \n",
       "4997             Medium                 115          115   \n",
       "4998              Large                 145          145   \n",
       "4999              Large                 330          125   \n",
       "\n",
       "                      Geographical_Location  Vehicle_Speed  \\\n",
       "0     13.059816123454882, 77.77068662374292             65   \n",
       "1     13.059816123454882, 77.77068662374292             78   \n",
       "2     13.059816123454882, 77.77068662374292             53   \n",
       "3     13.059816123454882, 77.77068662374292             92   \n",
       "4     13.059816123454882, 77.77068662374292             60   \n",
       "...                                     ...            ...   \n",
       "4995   13.21331620748757, 77.55413526894684             81   \n",
       "4996   13.21331620748757, 77.55413526894684             64   \n",
       "4997   13.21331620748757, 77.55413526894684             93   \n",
       "4998   13.21331620748757, 77.55413526894684             57   \n",
       "4999   13.21331620748757, 77.55413526894684             86   \n",
       "\n",
       "     Vehicle_Plate_Number Fraud_indicator  \n",
       "0              KA11AB1234           Fraud  \n",
       "1              KA66CD5678           Fraud  \n",
       "2              KA88EF9012       Not Fraud  \n",
       "3              KA11GH3456           Fraud  \n",
       "4              KA44IJ6789           Fraud  \n",
       "...                   ...             ...  \n",
       "4995           KA74ST0123       Not Fraud  \n",
       "4996           KA38UV3456       Not Fraud  \n",
       "4997           KA33WX6789       Not Fraud  \n",
       "4998           KA35YZ0123       Not Fraud  \n",
       "4999           KA37AB3456           Fraud  \n",
       "\n",
       "[5000 rows x 11 columns]"
      ]
     },
     "execution_count": 80,
     "metadata": {},
     "output_type": "execute_result"
    }
   ],
   "source": [
    "df"
   ]
  },
  {
   "cell_type": "markdown",
   "id": "63c8309e",
   "metadata": {},
   "source": [
    "# Data exploration and Visualization"
   ]
  },
  {
   "cell_type": "code",
   "execution_count": 81,
   "id": "e53b2de5",
   "metadata": {},
   "outputs": [
    {
     "data": {
      "text/html": [
       "<div>\n",
       "<style scoped>\n",
       "    .dataframe tbody tr th:only-of-type {\n",
       "        vertical-align: middle;\n",
       "    }\n",
       "\n",
       "    .dataframe tbody tr th {\n",
       "        vertical-align: top;\n",
       "    }\n",
       "\n",
       "    .dataframe thead th {\n",
       "        text-align: right;\n",
       "    }\n",
       "</style>\n",
       "<table border=\"1\" class=\"dataframe\">\n",
       "  <thead>\n",
       "    <tr style=\"text-align: right;\">\n",
       "      <th></th>\n",
       "      <th>Timestamp</th>\n",
       "      <th>Transaction_Amount</th>\n",
       "      <th>Amount_paid</th>\n",
       "      <th>Vehicle_Speed</th>\n",
       "    </tr>\n",
       "  </thead>\n",
       "  <tbody>\n",
       "    <tr>\n",
       "      <th>count</th>\n",
       "      <td>5000</td>\n",
       "      <td>5000.00000</td>\n",
       "      <td>5000.000000</td>\n",
       "      <td>5000.000000</td>\n",
       "    </tr>\n",
       "    <tr>\n",
       "      <th>mean</th>\n",
       "      <td>2023-06-13 06:32:39.756000</td>\n",
       "      <td>161.06200</td>\n",
       "      <td>141.261000</td>\n",
       "      <td>67.851200</td>\n",
       "    </tr>\n",
       "    <tr>\n",
       "      <th>min</th>\n",
       "      <td>2023-01-01 00:00:00</td>\n",
       "      <td>0.00000</td>\n",
       "      <td>0.000000</td>\n",
       "      <td>10.000000</td>\n",
       "    </tr>\n",
       "    <tr>\n",
       "      <th>25%</th>\n",
       "      <td>2023-03-14 02:42:00</td>\n",
       "      <td>100.00000</td>\n",
       "      <td>90.000000</td>\n",
       "      <td>54.000000</td>\n",
       "    </tr>\n",
       "    <tr>\n",
       "      <th>50%</th>\n",
       "      <td>2023-06-02 17:22:30</td>\n",
       "      <td>130.00000</td>\n",
       "      <td>120.000000</td>\n",
       "      <td>67.000000</td>\n",
       "    </tr>\n",
       "    <tr>\n",
       "      <th>75%</th>\n",
       "      <td>2023-09-08 08:06:45</td>\n",
       "      <td>290.00000</td>\n",
       "      <td>160.000000</td>\n",
       "      <td>82.000000</td>\n",
       "    </tr>\n",
       "    <tr>\n",
       "      <th>max</th>\n",
       "      <td>2023-12-31 21:45:00</td>\n",
       "      <td>350.00000</td>\n",
       "      <td>350.000000</td>\n",
       "      <td>118.000000</td>\n",
       "    </tr>\n",
       "    <tr>\n",
       "      <th>std</th>\n",
       "      <td>NaN</td>\n",
       "      <td>112.44995</td>\n",
       "      <td>106.480996</td>\n",
       "      <td>16.597547</td>\n",
       "    </tr>\n",
       "  </tbody>\n",
       "</table>\n",
       "</div>"
      ],
      "text/plain": [
       "                        Timestamp  Transaction_Amount  Amount_paid  \\\n",
       "count                        5000          5000.00000  5000.000000   \n",
       "mean   2023-06-13 06:32:39.756000           161.06200   141.261000   \n",
       "min           2023-01-01 00:00:00             0.00000     0.000000   \n",
       "25%           2023-03-14 02:42:00           100.00000    90.000000   \n",
       "50%           2023-06-02 17:22:30           130.00000   120.000000   \n",
       "75%           2023-09-08 08:06:45           290.00000   160.000000   \n",
       "max           2023-12-31 21:45:00           350.00000   350.000000   \n",
       "std                           NaN           112.44995   106.480996   \n",
       "\n",
       "       Vehicle_Speed  \n",
       "count    5000.000000  \n",
       "mean       67.851200  \n",
       "min        10.000000  \n",
       "25%        54.000000  \n",
       "50%        67.000000  \n",
       "75%        82.000000  \n",
       "max       118.000000  \n",
       "std        16.597547  "
      ]
     },
     "execution_count": 81,
     "metadata": {},
     "output_type": "execute_result"
    }
   ],
   "source": [
    "df.describe()"
   ]
  },
  {
   "cell_type": "code",
   "execution_count": 82,
   "id": "0cd86f19",
   "metadata": {},
   "outputs": [],
   "source": [
    "corr = df[['Timestamp','Transaction_Amount','Amount_paid','Vehicle_Speed']].corr()"
   ]
  },
  {
   "cell_type": "code",
   "execution_count": 83,
   "id": "355f8cd1",
   "metadata": {},
   "outputs": [
    {
     "data": {
      "text/plain": [
       "<Axes: >"
      ]
     },
     "execution_count": 83,
     "metadata": {},
     "output_type": "execute_result"
    },
    {
     "data": {
      "image/png": "[encoded data removed]",
      "text/plain": [
       "<Figure size 640x480 with 2 Axes>"
      ]
     },
     "metadata": {},
     "output_type": "display_data"
    }
   ],
   "source": [
    "sns.heatmap(corr,annot=True)"
   ]
  },
  {
   "cell_type": "code",
   "execution_count": 84,
   "id": "b0011754",
   "metadata": {},
   "outputs": [
    {
     "data": {
      "text/plain": [
       "Index(['Timestamp', 'Vehicle_Type', 'TollBoothID', 'Lane_Type',\n",
       "       'Vehicle_Dimensions', 'Transaction_Amount', 'Amount_paid',\n",
       "       'Geographical_Location', 'Vehicle_Speed', 'Vehicle_Plate_Number',\n",
       "       'Fraud_indicator'],\n",
       "      dtype='object')"
      ]
     },
     "execution_count": 84,
     "metadata": {},
     "output_type": "execute_result"
    }
   ],
   "source": [
    "df.columns"
   ]
  },
  {
   "cell_type": "code",
   "execution_count": 85,
   "id": "ffbefaeb",
   "metadata": {},
   "outputs": [],
   "source": [
    "from sklearn.preprocessing import LabelEncoder\n",
    "l = LabelEncoder()"
   ]
  },
  {
   "cell_type": "code",
   "execution_count": 86,
   "id": "267b95f6",
   "metadata": {},
   "outputs": [
    {
     "data": {
      "text/plain": [
       "Vehicle_Type\n",
       "Bus           716\n",
       "Car           714\n",
       "Motorcycle    714\n",
       "Truck         714\n",
       "Van           714\n",
       "Sedan         714\n",
       "SUV           714\n",
       "Name: count, dtype: int64"
      ]
     },
     "execution_count": 86,
     "metadata": {},
     "output_type": "execute_result"
    }
   ],
   "source": [
    "df['Vehicle_Type'].value_counts()"
   ]
  },
  {
   "cell_type": "code",
   "execution_count": 87,
   "id": "b507a39d",
   "metadata": {},
   "outputs": [
    {
     "data": {
      "text/plain": [
       "<Axes: ylabel='Vehicle_Type'>"
      ]
     },
     "execution_count": 87,
     "metadata": {},
     "output_type": "execute_result"
    },
    {
     "data": {
      "image/png": "[encoded data removed]",
      "text/plain": [
       "<Figure size 640x480 with 1 Axes>"
      ]
     },
     "metadata": {},
     "output_type": "display_data"
    }
   ],
   "source": [
    "df['Vehicle_Type'].value_counts().plot(kind='barh')"
   ]
  },
  {
   "cell_type": "code",
   "execution_count": 88,
   "id": "e2d06586",
   "metadata": {},
   "outputs": [],
   "source": [
    "df['Vehicle_Type'] = l.fit_transform(df['Vehicle_Type'])"
   ]
  },
  {
   "cell_type": "code",
   "execution_count": 89,
   "id": "91ebc68c",
   "metadata": {},
   "outputs": [
    {
     "data": {
      "text/plain": [
       "TollBoothID\n",
       "B-102    1432\n",
       "A-101    1428\n",
       "C-103    1426\n",
       "D-106     570\n",
       "D-105     104\n",
       "D-104      40\n",
       "Name: count, dtype: int64"
      ]
     },
     "execution_count": 89,
     "metadata": {},
     "output_type": "execute_result"
    }
   ],
   "source": [
    "df['TollBoothID'].value_counts()"
   ]
  },
  {
   "cell_type": "code",
   "execution_count": 90,
   "id": "e82c2896",
   "metadata": {},
   "outputs": [
    {
     "data": {
      "text/plain": [
       "<Axes: ylabel='TollBoothID'>"
      ]
     },
     "execution_count": 90,
     "metadata": {},
     "output_type": "execute_result"
    },
    {
     "data": {
      "image/png": "[encoded data removed]",
      "text/plain": [
       "<Figure size 640x480 with 1 Axes>"
      ]
     },
     "metadata": {},
     "output_type": "display_data"
    }
   ],
   "source": [
    "df['TollBoothID'].value_counts().plot(kind='barh')"
   ]
  },
  {
   "cell_type": "code",
   "execution_count": 91,
   "id": "4532fa15",
   "metadata": {},
   "outputs": [],
   "source": [
    "df['TollBoothID'] = l.fit_transform(df['TollBoothID'])"
   ]
  },
  {
   "cell_type": "code",
   "execution_count": 92,
   "id": "050acd26",
   "metadata": {},
   "outputs": [
    {
     "data": {
      "text/plain": [
       "Lane_Type\n",
       "Regular    2858\n",
       "Express    2142\n",
       "Name: count, dtype: int64"
      ]
     },
     "execution_count": 92,
     "metadata": {},
     "output_type": "execute_result"
    }
   ],
   "source": [
    "df['Lane_Type'].value_counts()"
   ]
  },
  {
   "cell_type": "code",
   "execution_count": 93,
   "id": "e91176ec",
   "metadata": {},
   "outputs": [
    {
     "data": {
      "text/plain": [
       "<Axes: ylabel='Lane_Type'>"
      ]
     },
     "execution_count": 93,
     "metadata": {},
     "output_type": "execute_result"
    },
    {
     "data": {
      "image/png": "[encoded data removed]",
      "text/plain": [
       "<Figure size 640x480 with 1 Axes>"
      ]
     },
     "metadata": {},
     "output_type": "display_data"
    }
   ],
   "source": [
    "df[\"Lane_Type\"].value_counts().plot(kind='barh')"
   ]
  },
  {
   "cell_type": "code",
   "execution_count": 94,
   "id": "d098a9ee",
   "metadata": {},
   "outputs": [],
   "source": [
    "df['Lane_Type'] = l.fit_transform(df['Lane_Type'])"
   ]
  },
  {
   "cell_type": "code",
   "execution_count": 95,
   "id": "5aac4a46",
   "metadata": {},
   "outputs": [
    {
     "data": {
      "text/plain": [
       "Vehicle_Dimensions\n",
       "Large     2144\n",
       "Small     1428\n",
       "Medium    1428\n",
       "Name: count, dtype: int64"
      ]
     },
     "execution_count": 95,
     "metadata": {},
     "output_type": "execute_result"
    }
   ],
   "source": [
    "df['Vehicle_Dimensions'].value_counts()"
   ]
  },
  {
   "cell_type": "code",
   "execution_count": 96,
   "id": "8756731c",
   "metadata": {},
   "outputs": [
    {
     "data": {
      "text/plain": [
       "<Axes: ylabel='Vehicle_Dimensions'>"
      ]
     },
     "execution_count": 96,
     "metadata": {},
     "output_type": "execute_result"
    },
    {
     "data": {
      "image/png": "[encoded data removed]",
      "text/plain": [
       "<Figure size 640x480 with 1 Axes>"
      ]
     },
     "metadata": {},
     "output_type": "display_data"
    }
   ],
   "source": [
    "df['Vehicle_Dimensions'].value_counts().plot(kind='barh')"
   ]
  },
  {
   "cell_type": "code",
   "execution_count": 97,
   "id": "6e5ca017",
   "metadata": {},
   "outputs": [],
   "source": [
    "df['Vehicle_Dimensions'] = l.fit_transform(df['Vehicle_Dimensions'])"
   ]
  },
  {
   "cell_type": "code",
   "execution_count": 98,
   "id": "b9ff2a88",
   "metadata": {},
   "outputs": [
    {
     "data": {
      "text/plain": [
       "Fraud_indicator\n",
       "Not Fraud    4017\n",
       "Fraud         983\n",
       "Name: count, dtype: int64"
      ]
     },
     "execution_count": 98,
     "metadata": {},
     "output_type": "execute_result"
    }
   ],
   "source": [
    "df['Fraud_indicator'].value_counts()"
   ]
  },
  {
   "cell_type": "code",
   "execution_count": 99,
   "id": "21ba556c",
   "metadata": {},
   "outputs": [
    {
     "data": {
      "text/plain": [
       "<Axes: ylabel='Fraud_indicator'>"
      ]
     },
     "execution_count": 99,
     "metadata": {},
     "output_type": "execute_result"
    },
    {
     "data": {
      "image/png": "[encoded data removed]",
      "text/plain": [
       "<Figure size 640x480 with 1 Axes>"
      ]
     },
     "metadata": {},
     "output_type": "display_data"
    }
   ],
   "source": [
    "df['Fraud_indicator'].value_counts().plot(kind='barh')"
   ]
  },
  {
   "cell_type": "code",
   "execution_count": 100,
   "id": "e0a61ee8",
   "metadata": {},
   "outputs": [],
   "source": [
    "df['Fraud_indicator'] = l.fit_transform(df['Fraud_indicator'])"
   ]
  },
  {
   "cell_type": "code",
   "execution_count": 101,
   "id": "b4497069",
   "metadata": {},
   "outputs": [
    {
     "data": {
      "text/plain": [
       "Geographical_Location\n",
       "13.059816123454882, 77.77068662374292    1000\n",
       "13.042660878688794, 77.47580097259879    1000\n",
       "12.84197701525119, 77.67547528176169     1000\n",
       "12.936687032945434, 77.53113977439017    1000\n",
       "13.21331620748757, 77.55413526894684     1000\n",
       "Name: count, dtype: int64"
      ]
     },
     "execution_count": 101,
     "metadata": {},
     "output_type": "execute_result"
    }
   ],
   "source": [
    "df['Geographical_Location'].value_counts()"
   ]
  },
  {
   "cell_type": "code",
   "execution_count": 102,
   "id": "641a9b77",
   "metadata": {},
   "outputs": [
    {
     "data": {
      "text/plain": [
       "<Axes: ylabel='Geographical_Location'>"
      ]
     },
     "execution_count": 102,
     "metadata": {},
     "output_type": "execute_result"
    },
    {
     "data": {
      "image/png": "[encoded data removed]",
      "text/plain": [
       "<Figure size 640x480 with 1 Axes>"
      ]
     },
     "metadata": {},
     "output_type": "display_data"
    }
   ],
   "source": [
    "df['Geographical_Location'].value_counts().plot(kind='barh')"
   ]
  },
  {
   "cell_type": "code",
   "execution_count": 103,
   "id": "c83604ee",
   "metadata": {},
   "outputs": [],
   "source": [
    "df['Geographical_Location'] = l.fit_transform(df['Geographical_Location'])"
   ]
  },
  {
   "cell_type": "code",
   "execution_count": 104,
   "id": "c195bfb0",
   "metadata": {},
   "outputs": [],
   "source": [
    "df['Timestamp'] = pd.to_datetime(df['Timestamp'])"
   ]
  },
  {
   "cell_type": "code",
   "execution_count": 105,
   "id": "e9106869",
   "metadata": {},
   "outputs": [],
   "source": [
    "df['Timestamp'] = df['Timestamp'].dt.strftime('%H:%M')\n"
   ]
  },
  {
   "cell_type": "code",
   "execution_count": 106,
   "id": "2e0eff57",
   "metadata": {},
   "outputs": [
    {
     "data": {
      "text/plain": [
       "0       11:20\n",
       "1       14:55\n",
       "2       18:25\n",
       "3       02:05\n",
       "4       06:35\n",
       "        ...  \n",
       "4995    22:18\n",
       "4996    13:43\n",
       "4997    05:08\n",
       "4998    20:34\n",
       "4999    00:59\n",
       "Name: Timestamp, Length: 5000, dtype: object"
      ]
     },
     "execution_count": 106,
     "metadata": {},
     "output_type": "execute_result"
    }
   ],
   "source": [
    "df['Timestamp']"
   ]
  },
  {
   "cell_type": "code",
   "execution_count": 107,
   "id": "d4e6547b",
   "metadata": {},
   "outputs": [],
   "source": [
    "df['Timestamp'] = pd.to_datetime(df['Timestamp'], format='%H:%M')\n"
   ]
  },
  {
   "cell_type": "code",
   "execution_count": 112,
   "id": "4864ad4c",
   "metadata": {},
   "outputs": [],
   "source": [
    "df['Window'] = (df['Timestamp'].dt.hour // 4) % 6"
   ]
  },
  {
   "cell_type": "code",
   "execution_count": 113,
   "id": "fe731d82",
   "metadata": {},
   "outputs": [
    {
     "data": {
      "text/plain": [
       "0       2\n",
       "1       3\n",
       "2       4\n",
       "3       0\n",
       "4       1\n",
       "       ..\n",
       "4995    5\n",
       "4996    3\n",
       "4997    1\n",
       "4998    5\n",
       "4999    0\n",
       "Name: Window, Length: 5000, dtype: int32"
      ]
     },
     "execution_count": 113,
     "metadata": {},
     "output_type": "execute_result"
    }
   ],
   "source": [
    "df['Window']"
   ]
  },
  {
   "cell_type": "code",
   "execution_count": 115,
   "id": "a42c8c41",
   "metadata": {},
   "outputs": [],
   "source": [
    "df.drop('Timestamp',axis=1,inplace=True)"
   ]
  },
  {
   "cell_type": "code",
   "execution_count": 116,
   "id": "ce37672b",
   "metadata": {},
   "outputs": [],
   "source": [
    "from sklearn.preprocessing import StandardScaler\n",
    "s = StandardScaler()"
   ]
  },
  {
   "cell_type": "code",
   "execution_count": 117,
   "id": "8d72d591",
   "metadata": {},
   "outputs": [],
   "source": [
    "df['Transaction_Amount'] = s.fit_transform(df[['Transaction_Amount']])"
   ]
  },
  {
   "cell_type": "code",
   "execution_count": 118,
   "id": "f82b66c9",
   "metadata": {},
   "outputs": [],
   "source": [
    "df['Amount_paid'] = s.fit_transform(df[['Amount_paid']])"
   ]
  },
  {
   "cell_type": "code",
   "execution_count": 119,
   "id": "56084131",
   "metadata": {},
   "outputs": [],
   "source": [
    "df['Vehicle_Speed'] = s.fit_transform(df[['Vehicle_Speed']])"
   ]
  },
  {
   "cell_type": "code",
   "execution_count": 120,
   "id": "aa53e255",
   "metadata": {},
   "outputs": [
    {
     "data": {
      "text/html": [
       "<div>\n",
       "<style scoped>\n",
       "    .dataframe tbody tr th:only-of-type {\n",
       "        vertical-align: middle;\n",
       "    }\n",
       "\n",
       "    .dataframe tbody tr th {\n",
       "        vertical-align: top;\n",
       "    }\n",
       "\n",
       "    .dataframe thead th {\n",
       "        text-align: right;\n",
       "    }\n",
       "</style>\n",
       "<table border=\"1\" class=\"dataframe\">\n",
       "  <thead>\n",
       "    <tr style=\"text-align: right;\">\n",
       "      <th></th>\n",
       "      <th>Vehicle_Type</th>\n",
       "      <th>TollBoothID</th>\n",
       "      <th>Lane_Type</th>\n",
       "      <th>Vehicle_Dimensions</th>\n",
       "      <th>Transaction_Amount</th>\n",
       "      <th>Amount_paid</th>\n",
       "      <th>Geographical_Location</th>\n",
       "      <th>Vehicle_Speed</th>\n",
       "      <th>Vehicle_Plate_Number</th>\n",
       "      <th>Fraud_indicator</th>\n",
       "      <th>Window</th>\n",
       "    </tr>\n",
       "  </thead>\n",
       "  <tbody>\n",
       "    <tr>\n",
       "      <th>0</th>\n",
       "      <td>0</td>\n",
       "      <td>0</td>\n",
       "      <td>0</td>\n",
       "      <td>0</td>\n",
       "      <td>1.680364</td>\n",
       "      <td>-0.199689</td>\n",
       "      <td>3</td>\n",
       "      <td>-0.171802</td>\n",
       "      <td>KA11AB1234</td>\n",
       "      <td>0</td>\n",
       "      <td>2</td>\n",
       "    </tr>\n",
       "    <tr>\n",
       "      <th>1</th>\n",
       "      <td>1</td>\n",
       "      <td>1</td>\n",
       "      <td>1</td>\n",
       "      <td>2</td>\n",
       "      <td>-0.365195</td>\n",
       "      <td>-0.387535</td>\n",
       "      <td>3</td>\n",
       "      <td>0.611525</td>\n",
       "      <td>KA66CD5678</td>\n",
       "      <td>0</td>\n",
       "      <td>3</td>\n",
       "    </tr>\n",
       "    <tr>\n",
       "      <th>2</th>\n",
       "      <td>2</td>\n",
       "      <td>3</td>\n",
       "      <td>1</td>\n",
       "      <td>2</td>\n",
       "      <td>-1.432443</td>\n",
       "      <td>-1.326764</td>\n",
       "      <td>3</td>\n",
       "      <td>-0.894872</td>\n",
       "      <td>KA88EF9012</td>\n",
       "      <td>1</td>\n",
       "      <td>4</td>\n",
       "    </tr>\n",
       "    <tr>\n",
       "      <th>3</th>\n",
       "      <td>5</td>\n",
       "      <td>2</td>\n",
       "      <td>1</td>\n",
       "      <td>0</td>\n",
       "      <td>1.680364</td>\n",
       "      <td>-0.199689</td>\n",
       "      <td>3</td>\n",
       "      <td>1.455108</td>\n",
       "      <td>KA11GH3456</td>\n",
       "      <td>0</td>\n",
       "      <td>0</td>\n",
       "    </tr>\n",
       "    <tr>\n",
       "      <th>4</th>\n",
       "      <td>6</td>\n",
       "      <td>1</td>\n",
       "      <td>0</td>\n",
       "      <td>1</td>\n",
       "      <td>-0.187320</td>\n",
       "      <td>-0.387535</td>\n",
       "      <td>3</td>\n",
       "      <td>-0.473081</td>\n",
       "      <td>KA44IJ6789</td>\n",
       "      <td>0</td>\n",
       "      <td>1</td>\n",
       "    </tr>\n",
       "    <tr>\n",
       "      <th>...</th>\n",
       "      <td>...</td>\n",
       "      <td>...</td>\n",
       "      <td>...</td>\n",
       "      <td>...</td>\n",
       "      <td>...</td>\n",
       "      <td>...</td>\n",
       "      <td>...</td>\n",
       "      <td>...</td>\n",
       "      <td>...</td>\n",
       "      <td>...</td>\n",
       "      <td>...</td>\n",
       "    </tr>\n",
       "    <tr>\n",
       "      <th>4995</th>\n",
       "      <td>5</td>\n",
       "      <td>2</td>\n",
       "      <td>1</td>\n",
       "      <td>0</td>\n",
       "      <td>1.502490</td>\n",
       "      <td>1.772691</td>\n",
       "      <td>4</td>\n",
       "      <td>0.792293</td>\n",
       "      <td>KA74ST0123</td>\n",
       "      <td>1</td>\n",
       "      <td>5</td>\n",
       "    </tr>\n",
       "    <tr>\n",
       "      <th>4996</th>\n",
       "      <td>6</td>\n",
       "      <td>1</td>\n",
       "      <td>0</td>\n",
       "      <td>1</td>\n",
       "      <td>-0.320726</td>\n",
       "      <td>-0.152728</td>\n",
       "      <td>4</td>\n",
       "      <td>-0.232057</td>\n",
       "      <td>KA38UV3456</td>\n",
       "      <td>1</td>\n",
       "      <td>3</td>\n",
       "    </tr>\n",
       "    <tr>\n",
       "      <th>4997</th>\n",
       "      <td>4</td>\n",
       "      <td>0</td>\n",
       "      <td>1</td>\n",
       "      <td>1</td>\n",
       "      <td>-0.409663</td>\n",
       "      <td>-0.246651</td>\n",
       "      <td>4</td>\n",
       "      <td>1.515363</td>\n",
       "      <td>KA33WX6789</td>\n",
       "      <td>1</td>\n",
       "      <td>1</td>\n",
       "    </tr>\n",
       "    <tr>\n",
       "      <th>4998</th>\n",
       "      <td>3</td>\n",
       "      <td>1</td>\n",
       "      <td>0</td>\n",
       "      <td>0</td>\n",
       "      <td>-0.142851</td>\n",
       "      <td>0.035118</td>\n",
       "      <td>4</td>\n",
       "      <td>-0.653849</td>\n",
       "      <td>KA35YZ0123</td>\n",
       "      <td>1</td>\n",
       "      <td>5</td>\n",
       "    </tr>\n",
       "    <tr>\n",
       "      <th>4999</th>\n",
       "      <td>0</td>\n",
       "      <td>2</td>\n",
       "      <td>1</td>\n",
       "      <td>0</td>\n",
       "      <td>1.502490</td>\n",
       "      <td>-0.152728</td>\n",
       "      <td>4</td>\n",
       "      <td>1.093572</td>\n",
       "      <td>KA37AB3456</td>\n",
       "      <td>0</td>\n",
       "      <td>0</td>\n",
       "    </tr>\n",
       "  </tbody>\n",
       "</table>\n",
       "<p>5000 rows × 11 columns</p>\n",
       "</div>"
      ],
      "text/plain": [
       "      Vehicle_Type  TollBoothID  Lane_Type  Vehicle_Dimensions  \\\n",
       "0                0            0          0                   0   \n",
       "1                1            1          1                   2   \n",
       "2                2            3          1                   2   \n",
       "3                5            2          1                   0   \n",
       "4                6            1          0                   1   \n",
       "...            ...          ...        ...                 ...   \n",
       "4995             5            2          1                   0   \n",
       "4996             6            1          0                   1   \n",
       "4997             4            0          1                   1   \n",
       "4998             3            1          0                   0   \n",
       "4999             0            2          1                   0   \n",
       "\n",
       "      Transaction_Amount  Amount_paid  Geographical_Location  Vehicle_Speed  \\\n",
       "0               1.680364    -0.199689                      3      -0.171802   \n",
       "1              -0.365195    -0.387535                      3       0.611525   \n",
       "2              -1.432443    -1.326764                      3      -0.894872   \n",
       "3               1.680364    -0.199689                      3       1.455108   \n",
       "4              -0.187320    -0.387535                      3      -0.473081   \n",
       "...                  ...          ...                    ...            ...   \n",
       "4995            1.502490     1.772691                      4       0.792293   \n",
       "4996           -0.320726    -0.152728                      4      -0.232057   \n",
       "4997           -0.409663    -0.246651                      4       1.515363   \n",
       "4998           -0.142851     0.035118                      4      -0.653849   \n",
       "4999            1.502490    -0.152728                      4       1.093572   \n",
       "\n",
       "     Vehicle_Plate_Number  Fraud_indicator  Window  \n",
       "0              KA11AB1234                0       2  \n",
       "1              KA66CD5678                0       3  \n",
       "2              KA88EF9012                1       4  \n",
       "3              KA11GH3456                0       0  \n",
       "4              KA44IJ6789                0       1  \n",
       "...                   ...              ...     ...  \n",
       "4995           KA74ST0123                1       5  \n",
       "4996           KA38UV3456                1       3  \n",
       "4997           KA33WX6789                1       1  \n",
       "4998           KA35YZ0123                1       5  \n",
       "4999           KA37AB3456                0       0  \n",
       "\n",
       "[5000 rows x 11 columns]"
      ]
     },
     "execution_count": 120,
     "metadata": {},
     "output_type": "execute_result"
    }
   ],
   "source": [
    "df"
   ]
  },
  {
   "cell_type": "code",
   "execution_count": 121,
   "id": "c05e03d6",
   "metadata": {},
   "outputs": [],
   "source": [
    "df.drop('Vehicle_Plate_Number',axis=1,inplace=True)"
   ]
  },
  {
   "cell_type": "code",
   "execution_count": 122,
   "id": "f5076971",
   "metadata": {},
   "outputs": [
    {
     "data": {
      "text/html": [
       "<div>\n",
       "<style scoped>\n",
       "    .dataframe tbody tr th:only-of-type {\n",
       "        vertical-align: middle;\n",
       "    }\n",
       "\n",
       "    .dataframe tbody tr th {\n",
       "        vertical-align: top;\n",
       "    }\n",
       "\n",
       "    .dataframe thead th {\n",
       "        text-align: right;\n",
       "    }\n",
       "</style>\n",
       "<table border=\"1\" class=\"dataframe\">\n",
       "  <thead>\n",
       "    <tr style=\"text-align: right;\">\n",
       "      <th></th>\n",
       "      <th>Vehicle_Type</th>\n",
       "      <th>TollBoothID</th>\n",
       "      <th>Lane_Type</th>\n",
       "      <th>Vehicle_Dimensions</th>\n",
       "      <th>Transaction_Amount</th>\n",
       "      <th>Amount_paid</th>\n",
       "      <th>Geographical_Location</th>\n",
       "      <th>Vehicle_Speed</th>\n",
       "      <th>Fraud_indicator</th>\n",
       "      <th>Window</th>\n",
       "    </tr>\n",
       "  </thead>\n",
       "  <tbody>\n",
       "    <tr>\n",
       "      <th>0</th>\n",
       "      <td>0</td>\n",
       "      <td>0</td>\n",
       "      <td>0</td>\n",
       "      <td>0</td>\n",
       "      <td>1.680364</td>\n",
       "      <td>-0.199689</td>\n",
       "      <td>3</td>\n",
       "      <td>-0.171802</td>\n",
       "      <td>0</td>\n",
       "      <td>2</td>\n",
       "    </tr>\n",
       "    <tr>\n",
       "      <th>1</th>\n",
       "      <td>1</td>\n",
       "      <td>1</td>\n",
       "      <td>1</td>\n",
       "      <td>2</td>\n",
       "      <td>-0.365195</td>\n",
       "      <td>-0.387535</td>\n",
       "      <td>3</td>\n",
       "      <td>0.611525</td>\n",
       "      <td>0</td>\n",
       "      <td>3</td>\n",
       "    </tr>\n",
       "    <tr>\n",
       "      <th>2</th>\n",
       "      <td>2</td>\n",
       "      <td>3</td>\n",
       "      <td>1</td>\n",
       "      <td>2</td>\n",
       "      <td>-1.432443</td>\n",
       "      <td>-1.326764</td>\n",
       "      <td>3</td>\n",
       "      <td>-0.894872</td>\n",
       "      <td>1</td>\n",
       "      <td>4</td>\n",
       "    </tr>\n",
       "    <tr>\n",
       "      <th>3</th>\n",
       "      <td>5</td>\n",
       "      <td>2</td>\n",
       "      <td>1</td>\n",
       "      <td>0</td>\n",
       "      <td>1.680364</td>\n",
       "      <td>-0.199689</td>\n",
       "      <td>3</td>\n",
       "      <td>1.455108</td>\n",
       "      <td>0</td>\n",
       "      <td>0</td>\n",
       "    </tr>\n",
       "    <tr>\n",
       "      <th>4</th>\n",
       "      <td>6</td>\n",
       "      <td>1</td>\n",
       "      <td>0</td>\n",
       "      <td>1</td>\n",
       "      <td>-0.187320</td>\n",
       "      <td>-0.387535</td>\n",
       "      <td>3</td>\n",
       "      <td>-0.473081</td>\n",
       "      <td>0</td>\n",
       "      <td>1</td>\n",
       "    </tr>\n",
       "    <tr>\n",
       "      <th>...</th>\n",
       "      <td>...</td>\n",
       "      <td>...</td>\n",
       "      <td>...</td>\n",
       "      <td>...</td>\n",
       "      <td>...</td>\n",
       "      <td>...</td>\n",
       "      <td>...</td>\n",
       "      <td>...</td>\n",
       "      <td>...</td>\n",
       "      <td>...</td>\n",
       "    </tr>\n",
       "    <tr>\n",
       "      <th>4995</th>\n",
       "      <td>5</td>\n",
       "      <td>2</td>\n",
       "      <td>1</td>\n",
       "      <td>0</td>\n",
       "      <td>1.502490</td>\n",
       "      <td>1.772691</td>\n",
       "      <td>4</td>\n",
       "      <td>0.792293</td>\n",
       "      <td>1</td>\n",
       "      <td>5</td>\n",
       "    </tr>\n",
       "    <tr>\n",
       "      <th>4996</th>\n",
       "      <td>6</td>\n",
       "      <td>1</td>\n",
       "      <td>0</td>\n",
       "      <td>1</td>\n",
       "      <td>-0.320726</td>\n",
       "      <td>-0.152728</td>\n",
       "      <td>4</td>\n",
       "      <td>-0.232057</td>\n",
       "      <td>1</td>\n",
       "      <td>3</td>\n",
       "    </tr>\n",
       "    <tr>\n",
       "      <th>4997</th>\n",
       "      <td>4</td>\n",
       "      <td>0</td>\n",
       "      <td>1</td>\n",
       "      <td>1</td>\n",
       "      <td>-0.409663</td>\n",
       "      <td>-0.246651</td>\n",
       "      <td>4</td>\n",
       "      <td>1.515363</td>\n",
       "      <td>1</td>\n",
       "      <td>1</td>\n",
       "    </tr>\n",
       "    <tr>\n",
       "      <th>4998</th>\n",
       "      <td>3</td>\n",
       "      <td>1</td>\n",
       "      <td>0</td>\n",
       "      <td>0</td>\n",
       "      <td>-0.142851</td>\n",
       "      <td>0.035118</td>\n",
       "      <td>4</td>\n",
       "      <td>-0.653849</td>\n",
       "      <td>1</td>\n",
       "      <td>5</td>\n",
       "    </tr>\n",
       "    <tr>\n",
       "      <th>4999</th>\n",
       "      <td>0</td>\n",
       "      <td>2</td>\n",
       "      <td>1</td>\n",
       "      <td>0</td>\n",
       "      <td>1.502490</td>\n",
       "      <td>-0.152728</td>\n",
       "      <td>4</td>\n",
       "      <td>1.093572</td>\n",
       "      <td>0</td>\n",
       "      <td>0</td>\n",
       "    </tr>\n",
       "  </tbody>\n",
       "</table>\n",
       "<p>5000 rows × 10 columns</p>\n",
       "</div>"
      ],
      "text/plain": [
       "      Vehicle_Type  TollBoothID  Lane_Type  Vehicle_Dimensions  \\\n",
       "0                0            0          0                   0   \n",
       "1                1            1          1                   2   \n",
       "2                2            3          1                   2   \n",
       "3                5            2          1                   0   \n",
       "4                6            1          0                   1   \n",
       "...            ...          ...        ...                 ...   \n",
       "4995             5            2          1                   0   \n",
       "4996             6            1          0                   1   \n",
       "4997             4            0          1                   1   \n",
       "4998             3            1          0                   0   \n",
       "4999             0            2          1                   0   \n",
       "\n",
       "      Transaction_Amount  Amount_paid  Geographical_Location  Vehicle_Speed  \\\n",
       "0               1.680364    -0.199689                      3      -0.171802   \n",
       "1              -0.365195    -0.387535                      3       0.611525   \n",
       "2              -1.432443    -1.326764                      3      -0.894872   \n",
       "3               1.680364    -0.199689                      3       1.455108   \n",
       "4              -0.187320    -0.387535                      3      -0.473081   \n",
       "...                  ...          ...                    ...            ...   \n",
       "4995            1.502490     1.772691                      4       0.792293   \n",
       "4996           -0.320726    -0.152728                      4      -0.232057   \n",
       "4997           -0.409663    -0.246651                      4       1.515363   \n",
       "4998           -0.142851     0.035118                      4      -0.653849   \n",
       "4999            1.502490    -0.152728                      4       1.093572   \n",
       "\n",
       "      Fraud_indicator  Window  \n",
       "0                   0       2  \n",
       "1                   0       3  \n",
       "2                   1       4  \n",
       "3                   0       0  \n",
       "4                   0       1  \n",
       "...               ...     ...  \n",
       "4995                1       5  \n",
       "4996                1       3  \n",
       "4997                1       1  \n",
       "4998                1       5  \n",
       "4999                0       0  \n",
       "\n",
       "[5000 rows x 10 columns]"
      ]
     },
     "execution_count": 122,
     "metadata": {},
     "output_type": "execute_result"
    }
   ],
   "source": [
    "df"
   ]
  },
  {
   "cell_type": "markdown",
   "id": "b02f3f87",
   "metadata": {},
   "source": [
    "# Model development "
   ]
  },
  {
   "cell_type": "code",
   "execution_count": 133,
   "id": "e837833a",
   "metadata": {},
   "outputs": [],
   "source": [
    "Y = np.array(df['Fraud_indicator'])\n",
    "X = np.array(df[['Vehicle_Type','TollBoothID','Lane_Type','Vehicle_Dimensions','Transaction_Amount','Amount_paid','Vehicle_Speed','Window']])\n"
   ]
  },
  {
   "cell_type": "code",
   "execution_count": 134,
   "id": "873215b4",
   "metadata": {},
   "outputs": [],
   "source": [
    "from sklearn.model_selection import train_test_split\n",
    "x_train,x_test,y_train,y_test = train_test_split(X,Y,test_size = 0.3)"
   ]
  },
  {
   "cell_type": "markdown",
   "id": "69951dc2",
   "metadata": {},
   "source": [
    "### Logistic Regression"
   ]
  },
  {
   "cell_type": "code",
   "execution_count": 135,
   "id": "1c0f005c",
   "metadata": {},
   "outputs": [],
   "source": [
    "from sklearn.linear_model import LogisticRegression\n",
    "lr_model = LogisticRegression()\n",
    "lr_model.fit(x_train,y_train)\n",
    "lr_pred = lr_model.predict(x_test)"
   ]
  },
  {
   "cell_type": "code",
   "execution_count": 136,
   "id": "1b342854",
   "metadata": {},
   "outputs": [
    {
     "name": "stdout",
     "output_type": "stream",
     "text": [
      "              precision    recall  f1-score   support\n",
      "\n",
      "           0       1.00      0.81      0.89       311\n",
      "           1       0.95      1.00      0.98      1189\n",
      "\n",
      "    accuracy                           0.96      1500\n",
      "   macro avg       0.98      0.90      0.93      1500\n",
      "weighted avg       0.96      0.96      0.96      1500\n",
      "\n"
     ]
    }
   ],
   "source": [
    "from sklearn.metrics import classification_report\n",
    "print(classification_report(y_test,lr_pred))"
   ]
  },
  {
   "cell_type": "code",
   "execution_count": 143,
   "id": "c44d3848",
   "metadata": {},
   "outputs": [
    {
     "name": "stdout",
     "output_type": "stream",
     "text": [
      "Accuracy :  0.96\n",
      "Precision :  0.9519615692554043\n",
      "Recall :  1.0\n",
      "f1 - score :  0.9753896636587367\n"
     ]
    }
   ],
   "source": [
    "from sklearn.metrics import accuracy_score,precision_score,recall_score,f1_score\n",
    "print(\"Accuracy : \",accuracy_score(y_test,lr_pred))\n",
    "print(\"Precision : \",precision_score(y_test,lr_pred))\n",
    "print(\"Recall : \",recall_score(y_test,lr_pred))\n",
    "print(\"f1 - score : \",f1_score(y_test,lr_pred))"
   ]
  },
  {
   "cell_type": "code",
   "execution_count": 149,
   "id": "5b79e0a6",
   "metadata": {},
   "outputs": [
    {
     "data": {
      "text/plain": [
       "<Axes: >"
      ]
     },
     "execution_count": 149,
     "metadata": {},
     "output_type": "execute_result"
    },
    {
     "data": {
      "image/png": "[encoded data removed]",
      "text/plain": [
       "<Figure size 640x480 with 2 Axes>"
      ]
     },
     "metadata": {},
     "output_type": "display_data"
    }
   ],
   "source": [
    "from sklearn.metrics import confusion_matrix\n",
    "sns.heatmap(confusion_matrix(y_test,lr_pred),annot=True,cmap='Blues',fmt='d')"
   ]
  },
  {
   "cell_type": "markdown",
   "id": "daf30824",
   "metadata": {},
   "source": [
    "### SVM"
   ]
  },
  {
   "cell_type": "code",
   "execution_count": 158,
   "id": "ce6c6adb",
   "metadata": {},
   "outputs": [],
   "source": [
    "from sklearn.svm import SVC\n",
    "s_model = SVC(kernel='linear')\n",
    "s_model.fit(x_train,y_train)\n",
    "s_pred = s_model.predict(x_test)"
   ]
  },
  {
   "cell_type": "code",
   "execution_count": 159,
   "id": "10bb4b36",
   "metadata": {},
   "outputs": [
    {
     "name": "stdout",
     "output_type": "stream",
     "text": [
      "              precision    recall  f1-score   support\n",
      "\n",
      "           0       1.00      0.92      0.96       311\n",
      "           1       0.98      1.00      0.99      1189\n",
      "\n",
      "    accuracy                           0.98      1500\n",
      "   macro avg       0.99      0.96      0.97      1500\n",
      "weighted avg       0.98      0.98      0.98      1500\n",
      "\n"
     ]
    }
   ],
   "source": [
    "from sklearn.metrics import classification_report\n",
    "print(classification_report(y_test,s_pred))"
   ]
  },
  {
   "cell_type": "code",
   "execution_count": 160,
   "id": "aa9cdbd8",
   "metadata": {},
   "outputs": [
    {
     "name": "stdout",
     "output_type": "stream",
     "text": [
      "Accuracy :  0.9826666666666667\n",
      "Precision :  0.9786008230452675\n",
      "Recall :  1.0\n",
      "f1 - score :  0.9891846921797005\n"
     ]
    }
   ],
   "source": [
    "from sklearn.metrics import accuracy_score,precision_score,recall_score,f1_score\n",
    "print(\"Accuracy : \",accuracy_score(y_test,s_pred))\n",
    "print(\"Precision : \",precision_score(y_test,s_pred))\n",
    "print(\"Recall : \",recall_score(y_test,s_pred))\n",
    "print(\"f1 - score : \",f1_score(y_test,s_pred))"
   ]
  },
  {
   "cell_type": "code",
   "execution_count": 161,
   "id": "7c7827c4",
   "metadata": {},
   "outputs": [
    {
     "data": {
      "text/plain": [
       "<Axes: >"
      ]
     },
     "execution_count": 161,
     "metadata": {},
     "output_type": "execute_result"
    },
    {
     "data": {
      "image/png": "[encoded data removed]",
      "text/plain": [
       "<Figure size 640x480 with 2 Axes>"
      ]
     },
     "metadata": {},
     "output_type": "display_data"
    }
   ],
   "source": [
    "from sklearn.metrics import confusion_matrix\n",
    "sns.heatmap(confusion_matrix(y_test,s_pred),annot=True,cmap='Blues',fmt='d')"
   ]
  },
  {
   "cell_type": "markdown",
   "id": "d4db7ece",
   "metadata": {},
   "source": [
    "### KNN"
   ]
  },
  {
   "cell_type": "code",
   "execution_count": 139,
   "id": "61571c95",
   "metadata": {},
   "outputs": [],
   "source": [
    "from sklearn.neighbors import KNeighborsClassifier\n",
    "k_model = KNeighborsClassifier()\n",
    "k_model.fit(x_train,y_train)\n",
    "k_pred = k_model.predict(x_test)"
   ]
  },
  {
   "cell_type": "code",
   "execution_count": 140,
   "id": "57b788d1",
   "metadata": {},
   "outputs": [
    {
     "name": "stdout",
     "output_type": "stream",
     "text": [
      "              precision    recall  f1-score   support\n",
      "\n",
      "           0       0.96      0.56      0.70       311\n",
      "           1       0.90      0.99      0.94      1189\n",
      "\n",
      "    accuracy                           0.90      1500\n",
      "   macro avg       0.93      0.78      0.82      1500\n",
      "weighted avg       0.91      0.90      0.89      1500\n",
      "\n"
     ]
    }
   ],
   "source": [
    "from sklearn.metrics import classification_report\n",
    "print(classification_report(y_test,k_pred))"
   ]
  },
  {
   "cell_type": "code",
   "execution_count": 145,
   "id": "4b33832f",
   "metadata": {},
   "outputs": [
    {
     "name": "stdout",
     "output_type": "stream",
     "text": [
      "Accuracy :  0.9033333333333333\n",
      "Precision :  0.8954545454545455\n",
      "Recall :  0.9941126997476871\n",
      "f1 - score :  0.9422080510163412\n"
     ]
    }
   ],
   "source": [
    "from sklearn.metrics import accuracy_score,precision_score,recall_score,f1_score\n",
    "print(\"Accuracy : \",accuracy_score(y_test,k_pred))\n",
    "print(\"Precision : \",precision_score(y_test,k_pred))\n",
    "print(\"Recall : \",recall_score(y_test,k_pred))\n",
    "print(\"f1 - score : \",f1_score(y_test,k_pred))"
   ]
  },
  {
   "cell_type": "code",
   "execution_count": 152,
   "id": "14c41cc0",
   "metadata": {},
   "outputs": [
    {
     "data": {
      "text/plain": [
       "<Axes: >"
      ]
     },
     "execution_count": 152,
     "metadata": {},
     "output_type": "execute_result"
    },
    {
     "data": {
      "image/png": "[encoded data removed]",
      "text/plain": [
       "<Figure size 640x480 with 2 Axes>"
      ]
     },
     "metadata": {},
     "output_type": "display_data"
    }
   ],
   "source": [
    "from sklearn.metrics import confusion_matrix\n",
    "sns.heatmap(confusion_matrix(y_test,k_pred),annot=True,cmap='Blues',fmt='d')"
   ]
  },
  {
   "cell_type": "code",
   "execution_count": null,
   "id": "b92953e9",
   "metadata": {},
   "outputs": [],
   "source": []
  }
 ],
 "metadata": {
  "kernelspec": {
   "display_name": "Python 3 (ipykernel)",
   "language": "python",
   "name": "python3"
  },
  "language_info": {
   "codemirror_mode": {
    "name": "ipython",
    "version": 3
   },
   "file_extension": ".py",
   "mimetype": "text/x-python",
   "name": "python",
   "nbconvert_exporter": "python",
   "pygments_lexer": "ipython3",
   "version": "3.11.3"
  }
 },
 "nbformat": 4,
 "nbformat_minor": 5
}
